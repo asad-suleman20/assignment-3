{
 "cells": [
  {
   "cell_type": "code",
   "execution_count": 1,
   "metadata": {},
   "outputs": [
    {
     "name": "stdout",
     "output_type": "stream",
     "text": [
      "current date and time is:\n",
      "21-10-23 17:39:16\n"
     ]
    }
   ],
   "source": [
    "import datetime\n",
    "now = datetime.datetime.now()\n",
    "print(\"current date and time is:\")\n",
    "print(now.strftime(\"%y-%m-%d %H:%M:%S\"));"
   ]
  },
  {
   "cell_type": "code",
   "execution_count": 2,
   "metadata": {},
   "outputs": [
    {
     "name": "stdout",
     "output_type": "stream",
     "text": [
      "python version\n",
      "3.7.6 (default, Jan  8 2020, 16:21:45) [MSC v.1916 32 bit (Intel)]\n",
      "python info\n",
      "sys.version_info(major=3, minor=7, micro=6, releaselevel='final', serial=0)\n"
     ]
    }
   ],
   "source": [
    "import sys\n",
    "print (\"python version\")\n",
    "print (sys.version)\n",
    "print (\"python info\")\n",
    "print (sys.version_info)"
   ]
  },
  {
   "cell_type": "code",
   "execution_count": 3,
   "metadata": {},
   "outputs": [
    {
     "name": "stdout",
     "output_type": "stream",
     "text": [
      "Enter your first name:asad\n",
      "Enter your last name:suleman\n",
      "Hello:suleman asad\n"
     ]
    }
   ],
   "source": [
    "firstName = input(\"Enter your first name:\")\n",
    "lastName = input(\"Enter your last name:\")\n",
    "print(\"Hello:\"+ lastName + \" \" + firstName)"
   ]
  },
  {
   "cell_type": "code",
   "execution_count": 4,
   "metadata": {
    "scrolled": true
   },
   "outputs": [
    {
     "name": "stdout",
     "output_type": "stream",
     "text": [
      "Enter Number 1 : 10\n",
      "Enter Number 2 : 20\n",
      "10  +  20  =  30\n"
     ]
    }
   ],
   "source": [
    "num1 = int(input(\"Enter Number 1 : \"))\n",
    "num2 = int(input(\"Enter Number 2 : \"))\n",
    "result = num1 + num2\n",
    "print (num1,\" + \",num2,\" = \",result)"
   ]
  },
  {
   "cell_type": "code",
   "execution_count": 8,
   "metadata": {
    "scrolled": true
   },
   "outputs": [
    {
     "name": "stdout",
     "output_type": "stream",
     "text": [
      "Enter marks for physics:45\n",
      "Enter marks for chemistry:60\n",
      "Enter marks for english:50\n",
      "Enter marks for urdu:44\n",
      "Enter marks for maths:37\n",
      "Total marks:  236\n",
      "percentage:  47.2\n",
      "grade:  D\n"
     ]
    }
   ],
   "source": [
    "phy = int(input (\"Enter marks for physics:\"))\n",
    "chem = int(input (\"Enter marks for chemistry:\"))\n",
    "eng = int(input (\"Enter marks for english:\"))\n",
    "urdu = int(input (\"Enter marks for urdu:\"))\n",
    "maths = int(input (\"Enter marks for maths:\"))\n",
    "tot = phy+chem+eng+urdu+maths\n",
    "per=tot/5\n",
    "if per>=85:\n",
    "    grade='A'\n",
    "elif per>=75:\n",
    "    grade='B'\n",
    "elif per>=50:\n",
    "    grade='C'\n",
    "elif per>=30:\n",
    "    grade='D'\n",
    "print (\"Total marks: \",tot)\n",
    "print (\"percentage: \",per)\n",
    "print (\"grade: \",grade)\n",
    "    "
   ]
  },
  {
   "cell_type": "code",
   "execution_count": 9,
   "metadata": {},
   "outputs": [
    {
     "name": "stdout",
     "output_type": "stream",
     "text": [
      "enter an integer number15\n",
      "15 is an odd number\n"
     ]
    }
   ],
   "source": [
    "number = int (input(\"enter an integer number\"))\n",
    "remainder = number % 2\n",
    "if (remainder == 0):\n",
    "    print (number,\"is an even number\")\n",
    "else:\n",
    "     print (number,\"is an odd number\")"
   ]
  },
  {
   "cell_type": "code",
   "execution_count": 10,
   "metadata": {},
   "outputs": [
    {
     "name": "stdout",
     "output_type": "stream",
     "text": [
      "length of list is: 4\n"
     ]
    }
   ],
   "source": [
    "list1 = [10,2,\"a\",4]\n",
    "count = 0\n",
    "for i in list1:\n",
    "    count= count+1\n",
    "print (\"length of list is:\" ,count)"
   ]
  },
  {
   "cell_type": "code",
   "execution_count": 40,
   "metadata": {},
   "outputs": [
    {
     "name": "stdout",
     "output_type": "stream",
     "text": [
      "15\n"
     ]
    }
   ],
   "source": [
    "mylist = [1,2,3,4,5]\n",
    "total = sum(mylist)\n",
    "print (total)"
   ]
  },
  {
   "cell_type": "code",
   "execution_count": 2,
   "metadata": {},
   "outputs": [
    {
     "name": "stdout",
     "output_type": "stream",
     "text": [
      "Enter the number 1:25\n",
      "Enter the number 2:98\n",
      "Enter the number 3:45\n",
      "largest among 25 98 and 45 is 98\n"
     ]
    }
   ],
   "source": [
    "n1 = int(input(\"Enter the number 1:\"))\n",
    "n2 = int(input(\"Enter the number 2:\"))\n",
    "n3 = int(input(\"Enter the number 3:\"))\n",
    "if n1 > n2 and n1 > n3:\n",
    "    largest = n1\n",
    "elif n2 > n1 and n2 > n3:\n",
    "    largest = n2 \n",
    "else:\n",
    "    largest = n3\n",
    "print (\"largest among {} {} and {} is {}\".format (n1,n2,n3,largest))"
   ]
  },
  {
   "cell_type": "code",
   "execution_count": 3,
   "metadata": {},
   "outputs": [
    {
     "name": "stdout",
     "output_type": "stream",
     "text": [
      "[1, 1, 2, 3]\n"
     ]
    }
   ],
   "source": [
    "a = [1, 1, 2, 3, 5, 8, 13, 21, 34, 55, 89]\n",
    "print ([x for x in a if x<5])"
   ]
  },
  {
   "cell_type": "code",
   "execution_count": null,
   "metadata": {},
   "outputs": [],
   "source": []
  },
  {
   "cell_type": "code",
   "execution_count": null,
   "metadata": {},
   "outputs": [],
   "source": []
  },
  {
   "cell_type": "code",
   "execution_count": null,
   "metadata": {},
   "outputs": [],
   "source": []
  },
  {
   "cell_type": "code",
   "execution_count": null,
   "metadata": {},
   "outputs": [],
   "source": []
  },
  {
   "cell_type": "code",
   "execution_count": null,
   "metadata": {},
   "outputs": [],
   "source": []
  }
 ],
 "metadata": {
  "kernelspec": {
   "display_name": "Python 3",
   "language": "python",
   "name": "python3"
  },
  "language_info": {
   "codemirror_mode": {
    "name": "ipython",
    "version": 3
   },
   "file_extension": ".py",
   "mimetype": "text/x-python",
   "name": "python",
   "nbconvert_exporter": "python",
   "pygments_lexer": "ipython3",
   "version": "3.7.6"
  }
 },
 "nbformat": 4,
 "nbformat_minor": 4
}
